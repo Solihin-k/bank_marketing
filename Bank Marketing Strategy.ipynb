{
 "cells": [
  {
   "cell_type": "markdown",
   "metadata": {},
   "source": [
    "# Introduction"
   ]
  },
  {
   "cell_type": "markdown",
   "metadata": {},
   "source": [
    "## The Problem:\n",
    "\n",
    "The bank recently experienced a decline in the number of subcriptions for their [term deposit](https://www.investopedia.com/terms/t/termdeposit.asp). They have come up with ads for their existing clients to address this and would like to do a targeted marketing approach. They would like to predict which of their clients have a higher chance to subscribe for a term deposit."
   ]
  },
  {
   "cell_type": "markdown",
   "metadata": {},
   "source": [
    "## Objective: \n",
    "- To understand what factors contributed most to term deposit subscription.\n",
    "\n",
    "- To perform clustering to find any meaningful patterns of employee traits.\n",
    "\n",
    "- To create a model that predicts the likelihood if a certain client will subscribe for a term deposit or not. \n",
    "\n",
    "- To create or improve different marketing strategies for clients that are least likely to subscribe for a term deposit.\n",
    "\n",
    "\n",
    "The implementation of this model will allow the bank to create better marketing strategies.\n",
    "\n",
    "## Categories of Analytics covered:\n",
    "1. Descriptive Analytics - What happened?\n",
    "2. Predictive Analytics - What might happen?\n",
    "3. Prescriptive Analytics - What should we do?"
   ]
  },
  {
   "cell_type": "code",
   "execution_count": null,
   "metadata": {},
   "outputs": [],
   "source": []
  }
 ],
 "metadata": {
  "kernelspec": {
   "display_name": "Python 3",
   "language": "python",
   "name": "python3"
  },
  "language_info": {
   "codemirror_mode": {
    "name": "ipython",
    "version": 3
   },
   "file_extension": ".py",
   "mimetype": "text/x-python",
   "name": "python",
   "nbconvert_exporter": "python",
   "pygments_lexer": "ipython3",
   "version": "3.7.6"
  }
 },
 "nbformat": 4,
 "nbformat_minor": 4
}
